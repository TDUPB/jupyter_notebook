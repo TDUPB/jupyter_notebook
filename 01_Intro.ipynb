{
 "cells": [
  {
   "cell_type": "markdown",
   "metadata": {},
   "source": [
    "# Aufgabe heute:\n",
    "# Sie bereiten sich digital auf die Messung von Sensor- Signalen mit dem Oszilloskop vor.\n",
    "##### Darstellung 1: Oszilloskop\n",
    "\n",
    "\n",
    "<img src=\"https://tdupb.github.io/oscilloscope.PNG\" width=\"800\" heigth=\"500\" />\n",
    "\n",
    "\n",
    "### Zunächst beschäftigen wir uns mit den Grundlagen von \"Schwingungen\".\n",
    "### Schwingungen entstehen in vielen Situationen und haben zunächst folgende Größen zur Beschreibung:\n",
    "\n",
    "* [Amplitude](../notebooks/02_amplitude.ipynb)\n",
    "* [Frequenz](../notebooks/03_frequenz.ipynb)\n",
    "* [Periodendauer](../notebooks/04_periodendauer.ipynb)\n",
    "* [Phasenverschiebung](../notebooks/05_phasenverschiebung.ipynb)\n",
    "\n",
    "\n",
    "Beispiele für Schwingungen gibt es viele!\n",
    "Überlegen Sie mal...\n",
    "\n",
    "mechanisch...\n",
    "\n",
    "elektrisch...\n",
    "\n",
    "mathematisch:\n",
    "\n",
    "<img src=\"https://tdupb.github.io/create_wave.gif\" />\n",
    "\n",
    "fantastisch:\n",
    "\n",
    "<img src=\"https://media.giphy.com/media/LDEMd6dLZNi4o/giphy.gif\" />\n"
   ]
  },
  {
   "cell_type": "code",
   "execution_count": null,
   "metadata": {},
   "outputs": [],
   "source": []
  }
 ],
 "metadata": {
  "kernelspec": {
   "display_name": "Python 3",
   "language": "python",
   "name": "python3"
  },
  "language_info": {
   "codemirror_mode": {
    "name": "ipython",
    "version": 3
   },
   "file_extension": ".py",
   "mimetype": "text/x-python",
   "name": "python",
   "nbconvert_exporter": "python",
   "pygments_lexer": "ipython3",
   "version": "3.7.4"
  }
 },
 "nbformat": 4,
 "nbformat_minor": 2
}
