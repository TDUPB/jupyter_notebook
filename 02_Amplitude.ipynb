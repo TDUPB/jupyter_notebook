{
 "cells": [
  {
   "cell_type": "markdown",
   "metadata": {},
   "source": [
    "#### A) Die Amplitude : \n",
    "beschreibt wie stark die Schwingung vom Nullpunkt bis zum (+/-) Maximum in y- Richtung *ausgelenkt* wird. Daher kann man auch von der **maximalen Auslenkung** sprechen. \n",
    "#### Eine Eselsbrücke könnte der \"Amplifier\" in der Tontechnik/Stereo-Anlage sein. Der \"Amplifier\" ist ein  \"Verstärker.\" Er verstärkt in diesem Fall das Audiosignal, welches eine \"Box\" ansteuert.\n",
    "\n",
    "##### Darstellung 2: Auslenkung einer Muskibox durch Schalldruck als Funktionskurve fortlaufend\n",
    "\n",
    "<img src=\"https://tdupb.github.io/amp.gif\" />"
   ]
  },
  {
   "cell_type": "code",
   "execution_count": null,
   "metadata": {},
   "outputs": [],
   "source": []
  }
 ],
 "metadata": {
  "kernelspec": {
   "display_name": "Python 3",
   "language": "python",
   "name": "python3"
  },
  "language_info": {
   "codemirror_mode": {
    "name": "ipython",
    "version": 3
   },
   "file_extension": ".py",
   "mimetype": "text/x-python",
   "name": "python",
   "nbconvert_exporter": "python",
   "pygments_lexer": "ipython3",
   "version": "3.7.4"
  }
 },
 "nbformat": 4,
 "nbformat_minor": 2
}
