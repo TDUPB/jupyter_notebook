{
 "cells": [
  {
   "cell_type": "markdown",
   "metadata": {},
   "source": [
    "#### B) Die Frequenz  und die Periodendauer: \n",
    "beschreibt wie oft in einem Zeitraum \"hin und her\" , \"hoch und runter\" geschwungen wurde. Wenn beispielsweise in einer Sekunde ein Pendel 2 mal \"hin und her\" geschwungen ist, dann ist die $~Frequenz~des~Pendels~f = \\frac{2~ Schwingungen}{pro~Sekunde} = 2 \\frac{1}{s} = 2~Hertz~$\n",
    "                                                    \n",
    "\n",
    "##### Darstellung 3: Frequenzerhöhung in Hertz über eine Sekunde\n",
    "\n",
    "\n",
    "<img src=\"https://tdupb.github.io/frequency.gif\" />"
   ]
  },
  {
   "cell_type": "code",
   "execution_count": null,
   "metadata": {},
   "outputs": [],
   "source": []
  }
 ],
 "metadata": {
  "kernelspec": {
   "display_name": "Python 3",
   "language": "python",
   "name": "python3"
  },
  "language_info": {
   "codemirror_mode": {
    "name": "ipython",
    "version": 3
   },
   "file_extension": ".py",
   "mimetype": "text/x-python",
   "name": "python",
   "nbconvert_exporter": "python",
   "pygments_lexer": "ipython3",
   "version": "3.7.4"
  }
 },
 "nbformat": 4,
 "nbformat_minor": 2
}
