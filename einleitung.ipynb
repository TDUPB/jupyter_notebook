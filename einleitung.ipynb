{
 "cells": [
  {
   "cell_type": "markdown",
   "metadata": {},
   "source": [
    "# Sie messen Sensor- Signale mit dem Oszilloskop\n",
    "\n",
    "\n",
    "\n",
    "<img src=\"https://tdupb.github.io/oscilloscope.PNG\" />\n",
    "\n",
    "\n",
    "Alle heutigen Signale sind harmonische Schwingungen.\n",
    "Schwingungen entstehen in vielen technischen Situationen.\n",
    "Wenn beispielsweise die Auslenkung (y) einer mechanische Schwingung auf der Zeitachse (x) dargestellt wird entsteht folgende Ansicht:\n",
    "\n",
    "\n",
    "<img src=\"https://upload.wikimedia.org/wikipedia/commons/d/d5/Animated-mass-spring-faster.gif\" />\n",
    "\n",
    "\n",
    "<img src=\"https://upload.wikimedia.org/wikipedia/commons/7/74/Simple_harmonic_motion_animation.gif\" />\n",
    "\n",
    "\n",
    "\n",
    "  \n",
    "A) Federung (Gravitationskraft spannt Feder. Federkraft stellt wieder zurück) \n",
    "    \n",
    "<img src=\"https://upload.wikimedia.org/wikipedia/commons/4/47/HarmonischeSchw.gif\" />\n",
    "\n",
    "<img src=\"https://media.giphy.com/media/LDEMd6dLZNi4o/giphy.gif\" />\n",
    "\n",
    "B) Elektrische Energieerzeugung (Generator)\n",
    "    \n",
    "   <img src=\"https://tdupb.github.io/generatoranimation.gif\" />\n",
    "    \n",
    "und können somit durch eine \"einfache\" mathematische Formel beschrieben werden:\n",
    "\n",
    "FORMEL $$\n",
    "f(x) = AmplitudeA * \\sin(Frequenz f * 2 * pi * x + Phasenwinkel p * 2 * pi)+ Offset\n",
    "$$\n",
    "\n",
    "&ensp;<br>\n",
    "<br>Plotten und Darstellung anpassen\n",
    "<p></p>\n",
    "\n",
    "Periodendauer<br>\n",
    "Frequenz&ensp;<br>\n",
    "Amplitude&ensp;<br>\n",
    "\n",
    "\n",
    "Im Folgenden Jupyter Notebook sehen Sie den Programm-Code zur Erzeugung der darunter befindlichen interaktiven Darstellung.\n",
    "Nutzen Sie die Darstellung zur Bearbeitung Ihres Arbeitsblattes.\n",
    "\n",
    "Zur Verwendung der interkativen Darstellung:\n",
    "a Tools\n",
    "    \n",
    "\n",
    "\n",
    "\n",
    "b Slider\n",
    "    können auchdem si mit der Maus angeklickt wurden mit den Pfeil-Tasten oder der Maus variiert werden."
   ]
  },
  {
   "cell_type": "code",
   "execution_count": null,
   "metadata": {},
   "outputs": [],
   "source": []
  }
 ],
 "metadata": {
  "kernelspec": {
   "display_name": "Python 3",
   "language": "python",
   "name": "python3"
  },
  "language_info": {
   "codemirror_mode": {
    "name": "ipython",
    "version": 3
   },
   "file_extension": ".py",
   "mimetype": "text/x-python",
   "name": "python",
   "nbconvert_exporter": "python",
   "pygments_lexer": "ipython3",
   "version": "3.7.4"
  }
 },
 "nbformat": 4,
 "nbformat_minor": 2
}
