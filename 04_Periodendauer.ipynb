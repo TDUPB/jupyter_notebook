{
 "cells": [
  {
   "cell_type": "markdown",
   "metadata": {},
   "source": [
    "#### C) Die Periodendauer: \n",
    "\n",
    "                                                    \n",
    "Die Periodendauer beschreibt die Zeit welche eine ganze Schwingung benötigt um einmal \"hin und her\" oder \"auf und ab\" zu schwingen.\n",
    "    \n",
    "Die Periodendauer ist der Kehrwert der Frequenz.$~Die~ Periodendauer ~ T= \\frac{1} {f}~$\n",
    "Bei dem vorigen kurzen Beispiel war f=2 Hertz.\n",
    "\n",
    "<img src=\"https://tdupb.github.io/2_hertz.PNG\" />\n",
    "\n",
    "$T_{2}= \\frac1{2\\;\\mathrm{Hz}} = 1/2\\;\\mathrm s= 0,5\\;\\mathrm {s}\\ $\n",
    "wäre also bei dem beschriebenen  Fall des Pendels $~T = 0,5 sec.$\n",
    "\n",
    "\n",
    "Die Frequenz der Spannung im Stromnetz beträgt 50Hz.\n",
    "\n",
    "<img src=\"https://tdupb.github.io/50_hertz.PNG\" />\n",
    "\n",
    "$T_{50}= \\frac1{50\\;\\mathrm{Hz}} = 1/50\\;\\mathrm s= 20\\;\\mathrm {ms}\\ $\n"
   ]
  },
  {
   "cell_type": "code",
   "execution_count": null,
   "metadata": {},
   "outputs": [],
   "source": []
  }
 ],
 "metadata": {
  "colab": {
   "name": "Kondensator.ipynb",
   "provenance": []
  },
  "kernelspec": {
   "display_name": "Python 3",
   "language": "python",
   "name": "python3"
  },
  "language_info": {
   "codemirror_mode": {
    "name": "ipython",
    "version": 3
   },
   "file_extension": ".py",
   "mimetype": "text/x-python",
   "name": "python",
   "nbconvert_exporter": "python",
   "pygments_lexer": "ipython3",
   "version": "3.7.4"
  }
 },
 "nbformat": 4,
 "nbformat_minor": 1
}
