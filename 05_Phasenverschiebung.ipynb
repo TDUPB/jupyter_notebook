{
 "cells": [
  {
   "cell_type": "markdown",
   "metadata": {},
   "source": [
    "\n",
    "#### D) Die Phasenverschiebung:\n",
    "Beschreibt den Startpunkt einer Schwingung. Die y-Position einer Schwingung wird in der Darstellung einmal über die Sinus- und einmal über die Cosinusfunktion bestimmt.\n",
    "        \n",
    "Wenn beide Funktionswerte fortlaufend dartgestellt werden könnte man sagen: \"Der Cosinus hat sein Maximum 90° vor dem Sinus.\" oder wenn es gemessene Signale wären: \"Die beiden Signale sind um 90° verschoben.\"\n",
    "                \n",
    "Eine sinnvolle Angabe über die Verschiebung findet nur zwischen dem Anfangspunkt und Endpunkt einer Schwingung statt. Eine Angabe wie +90° ist gleich bedeutend mit - 270°.\n",
    "                             \n",
    "\n",
    "\n",
    "##### Darstellung 4: sinus und cosinus Winkelverhältnisse auf dem Kreisumfang\n",
    "\n",
    "<img src=\"https://tdupb.github.io/sincos.gif\" />\n",
    "Je nach Darstellung und Anwendung wird auf der x-Achse:\n",
    "                               \n",
    "* der Mittelpunktswinkel: $~0°-360°~$, \n",
    "* der \"zurückgelegte Weg\" $~U=2*\\pi*r~$ auf dem \"Einheitskreis\" Radius 1--> Kreiszahl Pi $~\\pi ~ von ~0-2~\\pi ~$\n",
    "* oder die Zeit: $~t ~in ~sec.~$\n",
    "angezeigt.\n",
    "##### Darstellung 5: Die Funktionswerte y= f(x)=sin(x)  mit dem Mittelpunktswinkel als x-Wert einer periodischen Bewegung.\n",
    "\n",
    "<img src=\"https://media.giphy.com/media/NKLdcqhwo2f8A/giphy.gif\" />\n",
    "\n",
    "\n",
    "### Nun zur Simulation:\n",
    "\n",
    "[Simulation: Schwingung1](../tree/06_Schwingung1.ipynb)\n",
    "\n",
    "                   \n",
    "#### Ergründen Sie in 5 min. freier Arbeitsphase alle Funktionen und notieren Sie ggf. Fragen und Anmerkungen.\n",
    "\n",
    "#### Bearbeiten Sie das ausgeteilte Aufgabenblatt."
   ]
  },
  {
   "cell_type": "code",
   "execution_count": null,
   "metadata": {},
   "outputs": [],
   "source": []
  }
 ],
 "metadata": {
  "colab": {
   "name": "Kondensator.ipynb",
   "provenance": []
  },
  "kernelspec": {
   "display_name": "Python 3",
   "language": "python",
   "name": "python3"
  },
  "language_info": {
   "codemirror_mode": {
    "name": "ipython",
    "version": 3
   },
   "file_extension": ".py",
   "mimetype": "text/x-python",
   "name": "python",
   "nbconvert_exporter": "python",
   "pygments_lexer": "ipython3",
   "version": "3.7.4"
  }
 },
 "nbformat": 4,
 "nbformat_minor": 1
}
